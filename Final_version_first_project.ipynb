{
 "cells": [
  {
   "cell_type": "markdown",
   "metadata": {},
   "source": [
    "Hello, my name is Artem. I'm going to review your project!\n",
    "\n",
    "You can find my comments in <font color='green'>green</font>, <font color='blue'>blue</font> or <font color='red'>red</font> boxes like this:\n",
    "\n",
    "<div class=\"alert alert-block alert-success\">\n",
    "<b>Success:</b> if everything is done succesfully\n",
    "</div>\n",
    "\n",
    "<div class=\"alert alert-block alert-info\">\n",
    "<b>Improve: </b> \"Improve\" comments mean that there are tiny corrections that could help you to make your project better.\n",
    "</div>\n",
    "\n",
    "<div class=\"alert alert-block alert-danger\">\n",
    "<b>Needs fixing:</b> if the block requires some corrections. Work can't be accepted with the red comments.\n",
    "</div>\n",
    "\n",
    "### <font color='orange'>General feedback</font>\n",
    "* You've worked really hard and submitted a solid project.\n",
    "* Your code style looks good. It was a pleasure to review your project.\n",
    "* Glad to see that the notebook is well-structured. It's a pleasure to check such projects.\n",
    "* I've found some tiny mistake in your project. It'll be easy to fix.\n",
    "* There are also some comments for improvement. They don’t mean that you’ve done anything wrong, but they’re things we wanted to point out that can help you further develop your skills.\n",
    "* While there's room for improvement, on the whole, your project is impressive/looking good.\n",
    "* One more time and you'll have it! Good luck!"
   ]
  },
  {
   "cell_type": "markdown",
   "metadata": {},
   "source": [
    "### <font color='orange'>General feedback (review 2)</font>\n",
    "* I'm happy to see you've made a few corrections to your work!\n",
    "* Your project has been accepted and you can go to the next sprint!\n",
    "* Keep up the good work, and good luck on the next sprint!"
   ]
  },
  {
   "cell_type": "markdown",
   "metadata": {},
   "source": [
    "## Analyzing borrowers’ risk of defaulting\n",
    "\n",
    "Your project is to prepare a report for a bank’s loan division. You’ll need to find out if a customer’s marital status and number of children has an impact on whether they will default on a loan. The bank already has some data on customers’ credit worthiness.\n",
    "\n",
    "Your report will be considered when building a **credit scoring** of a potential customer. A ** credit scoring ** is used to evaluate the ability of a potential borrower to repay their loan."
   ]
  },
  {
   "cell_type": "markdown",
   "metadata": {},
   "source": [
    "### Step 1. Open the data file and have a look at the general information. "
   ]
  },
  {
   "cell_type": "markdown",
   "metadata": {},
   "source": [
    "<div class=\"alert alert-block alert-info\">\n",
    "<b>Improve: </b> Please collect all imports (and nothing else) in the first cell of the project.\n",
    "</div>"
   ]
  },
  {
   "cell_type": "code",
   "execution_count": 26,
   "metadata": {},
   "outputs": [
    {
     "name": "stdout",
     "output_type": "stream",
     "text": [
      "<class 'pandas.core.frame.DataFrame'>\n",
      "RangeIndex: 21525 entries, 0 to 21524\n",
      "Data columns (total 12 columns):\n",
      "children            21525 non-null int64\n",
      "days_employed       19351 non-null float64\n",
      "dob_years           21525 non-null int64\n",
      "education           21525 non-null object\n",
      "education_id        21525 non-null int64\n",
      "family_status       21525 non-null object\n",
      "family_status_id    21525 non-null int64\n",
      "gender              21525 non-null object\n",
      "income_type         21525 non-null object\n",
      "debt                21525 non-null int64\n",
      "total_income        19351 non-null float64\n",
      "purpose             21525 non-null object\n",
      "dtypes: float64(2), int64(5), object(5)\n",
      "memory usage: 2.0+ MB\n"
     ]
    },
    {
     "data": {
      "text/html": [
       "<div>\n",
       "<style scoped>\n",
       "    .dataframe tbody tr th:only-of-type {\n",
       "        vertical-align: middle;\n",
       "    }\n",
       "\n",
       "    .dataframe tbody tr th {\n",
       "        vertical-align: top;\n",
       "    }\n",
       "\n",
       "    .dataframe thead th {\n",
       "        text-align: right;\n",
       "    }\n",
       "</style>\n",
       "<table border=\"1\" class=\"dataframe\">\n",
       "  <thead>\n",
       "    <tr style=\"text-align: right;\">\n",
       "      <th></th>\n",
       "      <th>children</th>\n",
       "      <th>days_employed</th>\n",
       "      <th>dob_years</th>\n",
       "      <th>education</th>\n",
       "      <th>education_id</th>\n",
       "      <th>family_status</th>\n",
       "      <th>family_status_id</th>\n",
       "      <th>gender</th>\n",
       "      <th>income_type</th>\n",
       "      <th>debt</th>\n",
       "      <th>total_income</th>\n",
       "      <th>purpose</th>\n",
       "    </tr>\n",
       "  </thead>\n",
       "  <tbody>\n",
       "    <tr>\n",
       "      <td>0</td>\n",
       "      <td>1</td>\n",
       "      <td>-8437.673028</td>\n",
       "      <td>42</td>\n",
       "      <td>bachelor's degree</td>\n",
       "      <td>0</td>\n",
       "      <td>married</td>\n",
       "      <td>0</td>\n",
       "      <td>F</td>\n",
       "      <td>employee</td>\n",
       "      <td>0</td>\n",
       "      <td>40620.102</td>\n",
       "      <td>purchase of the house</td>\n",
       "    </tr>\n",
       "    <tr>\n",
       "      <td>1</td>\n",
       "      <td>1</td>\n",
       "      <td>-4024.803754</td>\n",
       "      <td>36</td>\n",
       "      <td>secondary education</td>\n",
       "      <td>1</td>\n",
       "      <td>married</td>\n",
       "      <td>0</td>\n",
       "      <td>F</td>\n",
       "      <td>employee</td>\n",
       "      <td>0</td>\n",
       "      <td>17932.802</td>\n",
       "      <td>car purchase</td>\n",
       "    </tr>\n",
       "    <tr>\n",
       "      <td>2</td>\n",
       "      <td>0</td>\n",
       "      <td>-5623.422610</td>\n",
       "      <td>33</td>\n",
       "      <td>Secondary Education</td>\n",
       "      <td>1</td>\n",
       "      <td>married</td>\n",
       "      <td>0</td>\n",
       "      <td>M</td>\n",
       "      <td>employee</td>\n",
       "      <td>0</td>\n",
       "      <td>23341.752</td>\n",
       "      <td>purchase of the house</td>\n",
       "    </tr>\n",
       "    <tr>\n",
       "      <td>3</td>\n",
       "      <td>3</td>\n",
       "      <td>-4124.747207</td>\n",
       "      <td>32</td>\n",
       "      <td>secondary education</td>\n",
       "      <td>1</td>\n",
       "      <td>married</td>\n",
       "      <td>0</td>\n",
       "      <td>M</td>\n",
       "      <td>employee</td>\n",
       "      <td>0</td>\n",
       "      <td>42820.568</td>\n",
       "      <td>supplementary education</td>\n",
       "    </tr>\n",
       "    <tr>\n",
       "      <td>4</td>\n",
       "      <td>0</td>\n",
       "      <td>340266.072047</td>\n",
       "      <td>53</td>\n",
       "      <td>secondary education</td>\n",
       "      <td>1</td>\n",
       "      <td>civil partnership</td>\n",
       "      <td>1</td>\n",
       "      <td>F</td>\n",
       "      <td>retiree</td>\n",
       "      <td>0</td>\n",
       "      <td>25378.572</td>\n",
       "      <td>to have a wedding</td>\n",
       "    </tr>\n",
       "  </tbody>\n",
       "</table>\n",
       "</div>"
      ],
      "text/plain": [
       "   children  days_employed  dob_years            education  education_id  \\\n",
       "0         1   -8437.673028         42    bachelor's degree             0   \n",
       "1         1   -4024.803754         36  secondary education             1   \n",
       "2         0   -5623.422610         33  Secondary Education             1   \n",
       "3         3   -4124.747207         32  secondary education             1   \n",
       "4         0  340266.072047         53  secondary education             1   \n",
       "\n",
       "       family_status  family_status_id gender income_type  debt  total_income  \\\n",
       "0            married                 0      F    employee     0     40620.102   \n",
       "1            married                 0      F    employee     0     17932.802   \n",
       "2            married                 0      M    employee     0     23341.752   \n",
       "3            married                 0      M    employee     0     42820.568   \n",
       "4  civil partnership                 1      F     retiree     0     25378.572   \n",
       "\n",
       "                   purpose  \n",
       "0    purchase of the house  \n",
       "1             car purchase  \n",
       "2    purchase of the house  \n",
       "3  supplementary education  \n",
       "4        to have a wedding  "
      ]
     },
     "execution_count": 26,
     "metadata": {},
     "output_type": "execute_result"
    }
   ],
   "source": [
    "import pandas as pd\n",
    "from nltk.stem import SnowballStemmer\n",
    "\n",
    "credit_credentials = pd.read_csv('/datasets/credit_scoring_eng.csv')\n",
    "credit_credentials.info()\n",
    "credit_credentials.head()"
   ]
  },
  {
   "cell_type": "markdown",
   "metadata": {},
   "source": [
    "### Conclusion"
   ]
  },
  {
   "cell_type": "markdown",
   "metadata": {},
   "source": [
    "- In this set of data there are 12 columns. Column names are children, days_employed, dob_years, education, education_id, family_status, family_status_id, gender, income_type, debt, total_income, and purpose. \n",
    "\n",
    "- There are 21,525 total rows.\n",
    "\n",
    "- The column titled days_employed contains negative values,  it would be better to change these to positive values so that the data is easier to read. \n",
    "\n",
    "- The columns titled days_employed and total_income contain missing values. \n",
    "\n",
    "- The purpose of the loan column will need to be categorized as well because then you can tell how much the loan is for. A car loan will most likely be less in value than a home loan therefore, would not need as much income as a home loan."
   ]
  },
  {
   "cell_type": "markdown",
   "metadata": {},
   "source": [
    "<div class=\"alert alert-block alert-info\">\n",
    "<b>Improve: </b> You could create a bullet point if you've added space after dash (-) in markdown cell above.\n",
    "</div>"
   ]
  },
  {
   "cell_type": "markdown",
   "metadata": {},
   "source": [
    "<div class=\"alert alert-block alert-success\">\n",
    "<b>Success:</b> Data loading and initial analysis were done well.\n",
    "</div>"
   ]
  },
  {
   "cell_type": "markdown",
   "metadata": {},
   "source": [
    "### Step 2. Data preprocessing"
   ]
  },
  {
   "cell_type": "markdown",
   "metadata": {},
   "source": [
    "### Processing missing values"
   ]
  },
  {
   "cell_type": "code",
   "execution_count": 27,
   "metadata": {},
   "outputs": [
    {
     "name": "stdout",
     "output_type": "stream",
     "text": [
      "The mean of days_employed is: 365004.310\n",
      "The median of days_employed is: 365213.306\n",
      "\n",
      "The mean of total_income is: 26787.568\n",
      "The median of total_income is: 23202.870\n"
     ]
    },
    {
     "data": {
      "text/plain": [
       "children            0\n",
       "days_employed       0\n",
       "dob_years           0\n",
       "education           0\n",
       "education_id        0\n",
       "family_status       0\n",
       "family_status_id    0\n",
       "gender              0\n",
       "income_type         0\n",
       "debt                0\n",
       "total_income        0\n",
       "purpose             0\n",
       "dtype: int64"
      ]
     },
     "execution_count": 27,
     "metadata": {},
     "output_type": "execute_result"
    }
   ],
   "source": [
    "credit_credentials['days_employed'].sort_values()\n",
    "mean_of_days_employed = credit_credentials['days_employed'][credit_credentials['days_employed'] >0].mean()\n",
    "median_of_days_employed = credit_credentials['days_employed'][credit_credentials['days_employed'] >0].median()\n",
    "credit_credentials['days_employed'] = credit_credentials['days_employed'].fillna(mean_of_days_employed)\n",
    "\n",
    "credit_credentials['total_income'].sort_values()\n",
    "mean_of_total_income = credit_credentials['total_income'].mean()\n",
    "median_of_total_income = credit_credentials['total_income'].median()\n",
    "credit_credentials['total_income'] = credit_credentials['total_income'].fillna(mean_of_total_income)\n",
    "\n",
    "print('The mean of days_employed is: {:.3f}'.format(mean_of_days_employed))\n",
    "print('The median of days_employed is: {:.3f}'.format(median_of_days_employed))\n",
    "print('')\n",
    "print('The mean of total_income is: {:.3f}'.format(mean_of_total_income))\n",
    "print('The median of total_income is: {:.3f}'.format(median_of_total_income))\n",
    "\n",
    "credit_credentials.isna().sum()"
   ]
  },
  {
   "cell_type": "markdown",
   "metadata": {},
   "source": [
    "### Conclusion"
   ]
  },
  {
   "cell_type": "markdown",
   "metadata": {},
   "source": [
    "- The first line of code was to check the values in the days_employed column. Here its discovered that there are negative values mixed in with positive values and NaNs. \n",
    "\n",
    "- The second line and third line of code is to find whether or not the missing values in days_employed should be replaced by the mean or median. It also helps to check these because then I can see if there are major outliers in this column that skew this data.\n",
    "\n",
    "- I did the whole process over for the total_income column and discovered that  there are no major outliers\n",
    "\n",
    "- All replacements have been made for the columns that contained missing values so then I checked credit_credentials to make sure that there were no more missing values.\n",
    "\n",
    "- There were the same amount of rows that were missing total_income as well as days_employed perhaps, this was not required to fill out the application?\n"
   ]
  },
  {
   "cell_type": "markdown",
   "metadata": {},
   "source": [
    "<div class=\"alert alert-block alert-success\">\n",
    "<b>Success:</b> It was a possible solution to fill missing values.\n",
    "    <br> May be total_income and days_employed were optional fields.\n",
    "</div>"
   ]
  },
  {
   "cell_type": "markdown",
   "metadata": {},
   "source": [
    "### Data type replacement"
   ]
  },
  {
   "cell_type": "code",
   "execution_count": 28,
   "metadata": {},
   "outputs": [
    {
     "name": "stdout",
     "output_type": "stream",
     "text": [
      "<class 'pandas.core.frame.DataFrame'>\n",
      "RangeIndex: 21525 entries, 0 to 21524\n",
      "Data columns (total 12 columns):\n",
      "children            21525 non-null int64\n",
      "days_employed       21525 non-null int64\n",
      "dob_years           21525 non-null int64\n",
      "education           21525 non-null object\n",
      "education_id        21525 non-null int64\n",
      "family_status       21525 non-null object\n",
      "family_status_id    21525 non-null int64\n",
      "gender              21525 non-null object\n",
      "income_type         21525 non-null object\n",
      "debt                21525 non-null int64\n",
      "total_income        21525 non-null int64\n",
      "purpose             21525 non-null object\n",
      "dtypes: int64(7), object(5)\n",
      "memory usage: 2.0+ MB\n"
     ]
    }
   ],
   "source": [
    "credit_credentials['total_income'] = credit_credentials['total_income'].astype('int')\n",
    "credit_credentials['days_employed'] = credit_credentials['days_employed'].astype('int')\n",
    "\n",
    "credit_credentials.info()"
   ]
  },
  {
   "cell_type": "markdown",
   "metadata": {},
   "source": [
    "### Conclusion"
   ]
  },
  {
   "cell_type": "markdown",
   "metadata": {},
   "source": [
    "- Changing the astype to integer was to get rid of the float values\n",
    "\n",
    "- Float values take up more memory than integers  so by converting to integers the memory the data takes up is decreased\n",
    "\n"
   ]
  },
  {
   "cell_type": "markdown",
   "metadata": {},
   "source": [
    "<div class=\"alert alert-block alert-success\">\n",
    "<b>Success:</b> Well done!\n",
    "</div>"
   ]
  },
  {
   "cell_type": "markdown",
   "metadata": {},
   "source": [
    "### Processing duplicates"
   ]
  },
  {
   "cell_type": "code",
   "execution_count": 29,
   "metadata": {},
   "outputs": [
    {
     "name": "stdout",
     "output_type": "stream",
     "text": [
      "0        False\n",
      "1        False\n",
      "2        False\n",
      "3        False\n",
      "4        False\n",
      "         ...  \n",
      "21520    False\n",
      "21521    False\n",
      "21522    False\n",
      "21523    False\n",
      "21524    False\n",
      "Length: 21525, dtype: bool\n",
      "\n",
      "54\n",
      "\n"
     ]
    },
    {
     "data": {
      "text/plain": [
       "array(['married', 'civil partnership', 'widow / widower', 'divorced',\n",
       "       'unmarried'], dtype=object)"
      ]
     },
     "execution_count": 29,
     "metadata": {},
     "output_type": "execute_result"
    }
   ],
   "source": [
    "duplicates = credit_credentials.duplicated()\n",
    "duplicates_sum = credit_credentials.duplicated().sum()\n",
    "\n",
    "print(duplicates)\n",
    "print('')\n",
    "print(duplicates_sum)\n",
    "print('')\n",
    "credit_credentials['family_status'].unique()"
   ]
  },
  {
   "cell_type": "markdown",
   "metadata": {},
   "source": [
    "### Conclusion"
   ]
  },
  {
   "cell_type": "markdown",
   "metadata": {},
   "source": [
    "- The first line of code is to check if there are any duplicates in this table there are 408\n",
    "\n",
    "- One thing to take into consideration here is that in some columns there are very few options that could be placed there. That is why I pulled information from the family_status column there are only 5 unique values and over 21,000 values. \n"
   ]
  },
  {
   "cell_type": "markdown",
   "metadata": {},
   "source": [
    "<div class=\"alert alert-block alert-danger\">\n",
    "\n",
    "<b>Needs fixing:</b> You can see at the example below that original row does not marked as duplicated. So in `duplicated` dataframe you could not see 2 first(original) row.\n",
    "\n",
    "</div>"
   ]
  },
  {
   "cell_type": "markdown",
   "metadata": {},
   "source": [
    "<div class=\"alert alert-block alert-danger\">\n",
    "<b>Reviewer code start</b>\n",
    "</div>"
   ]
  },
  {
   "cell_type": "code",
   "execution_count": 5,
   "metadata": {},
   "outputs": [
    {
     "data": {
      "text/html": [
       "<div>\n",
       "<style scoped>\n",
       "    .dataframe tbody tr th:only-of-type {\n",
       "        vertical-align: middle;\n",
       "    }\n",
       "\n",
       "    .dataframe tbody tr th {\n",
       "        vertical-align: top;\n",
       "    }\n",
       "\n",
       "    .dataframe thead th {\n",
       "        text-align: right;\n",
       "    }\n",
       "</style>\n",
       "<table border=\"1\" class=\"dataframe\">\n",
       "  <thead>\n",
       "    <tr style=\"text-align: right;\">\n",
       "      <th></th>\n",
       "      <th>0</th>\n",
       "      <th>1</th>\n",
       "    </tr>\n",
       "  </thead>\n",
       "  <tbody>\n",
       "    <tr>\n",
       "      <td>0</td>\n",
       "      <td>1</td>\n",
       "      <td>2</td>\n",
       "    </tr>\n",
       "    <tr>\n",
       "      <td>1</td>\n",
       "      <td>1</td>\n",
       "      <td>3</td>\n",
       "    </tr>\n",
       "    <tr>\n",
       "      <td>2</td>\n",
       "      <td>1</td>\n",
       "      <td>2</td>\n",
       "    </tr>\n",
       "    <tr>\n",
       "      <td>3</td>\n",
       "      <td>1</td>\n",
       "      <td>2</td>\n",
       "    </tr>\n",
       "  </tbody>\n",
       "</table>\n",
       "</div>"
      ],
      "text/plain": [
       "   0  1\n",
       "0  1  2\n",
       "1  1  3\n",
       "2  1  2\n",
       "3  1  2"
      ]
     },
     "execution_count": 5,
     "metadata": {},
     "output_type": "execute_result"
    }
   ],
   "source": [
    "import pandas as pd\n",
    "\n",
    "df = pd.DataFrame([[1, 2], [1, 3], [1, 2], [1, 2]])\n",
    "df"
   ]
  },
  {
   "cell_type": "code",
   "execution_count": 7,
   "metadata": {},
   "outputs": [
    {
     "data": {
      "text/plain": [
       "0    False\n",
       "1    False\n",
       "2     True\n",
       "3     True\n",
       "dtype: bool"
      ]
     },
     "execution_count": 7,
     "metadata": {},
     "output_type": "execute_result"
    }
   ],
   "source": [
    "df.duplicated()"
   ]
  },
  {
   "cell_type": "markdown",
   "metadata": {},
   "source": [
    "<div class=\"alert alert-block alert-danger\">\n",
    "<b>Reviewer code end</b>\n",
    "</div>"
   ]
  },
  {
   "cell_type": "markdown",
   "metadata": {},
   "source": [
    "### Categorizing Data"
   ]
  },
  {
   "cell_type": "code",
   "execution_count": 30,
   "metadata": {},
   "outputs": [],
   "source": [
    "def income_level(income):\n",
    "    if income <= 20000:\n",
    "        return 'low income'\n",
    "    if income <= 50000:\n",
    "        return 'middle-class'\n",
    "    if income <= 70000:\n",
    "        return 'upper-middle-class'\n",
    "    else:\n",
    "        return 'upper-class'\n",
    "\n",
    "credit_credentials['income_level'] = credit_credentials['total_income'].apply(income_level)\n",
    "\n",
    "def applicant_age(age):\n",
    "    if age <= 34:\n",
    "        return 'Young applicant'\n",
    "    if age <= 49:\n",
    "        return 'Younger middle age applicant'\n",
    "    if age <= 65:\n",
    "        return 'Upper middle age applicant'\n",
    "    else:\n",
    "        return 'elder applicant'\n",
    "credit_credentials['dob_years'] = credit_credentials['dob_years'].apply(applicant_age)"
   ]
  },
  {
   "cell_type": "markdown",
   "metadata": {},
   "source": [
    "### Conclusion"
   ]
  },
  {
   "cell_type": "markdown",
   "metadata": {},
   "source": [
    "- I decided to sort the data by income level because it will make it will help to quickly locate which groups of indiviual's data should be reviewed more\n",
    "\n",
    "- I also decided to group by age this is because currently in the United States the younger you are the more likely you have debt due to university or other outside factors. By grouping by age the reviewer can check to see who is most likely to have other loans and be able to take that into consideration as well."
   ]
  },
  {
   "cell_type": "markdown",
   "metadata": {},
   "source": [
    "<div class=\"alert alert-block alert-success\">\n",
    "<b>Success:</b> This part was done great! Glad to see that \"apply\" method was used.\n",
    "</div>"
   ]
  },
  {
   "cell_type": "markdown",
   "metadata": {},
   "source": [
    "<div class=\"alert alert-block alert-info\">\n",
    "<b>Improve: </b> You could also make a small analysis. How can it bee -1 or 20 children? Is it possible? What about maximal possible value of days employed?\n",
    "</div>"
   ]
  },
  {
   "cell_type": "markdown",
   "metadata": {},
   "source": [
    "### Step 3. Answer these questions"
   ]
  },
  {
   "cell_type": "markdown",
   "metadata": {},
   "source": [
    "- Is there a relation between having kids and repaying a loan on time?"
   ]
  },
  {
   "cell_type": "code",
   "execution_count": 31,
   "metadata": {},
   "outputs": [
    {
     "name": "stdout",
     "output_type": "stream",
     "text": [
      "           sum  count % of total\n",
      "          debt   debt           \n",
      "children                        \n",
      " 5           0      9      0.00%\n",
      " 20          8     76     10.53%\n",
      "-1           1     47      2.13%\n",
      " 0        1063  14149      7.51%\n",
      " 3          27    330      8.18%\n",
      " 1         444   4818      9.22%\n",
      " 2         194   2055      9.44%\n",
      " 4           4     41      9.76%\n",
      "\n",
      "These amount of applicants have children: 7376\n",
      "These amount of applicants that are without children: 14149\n",
      "\n",
      "These amount of applicants have children and are in debt: 678\n",
      "These amount of applicants are without children but, have debt: 1063\n",
      "\n",
      "Possility of missed payments with children: 9.19%\n",
      "Possibility of missed payments without children: 7.51%\n"
     ]
    }
   ],
   "source": [
    "have_children = credit_credentials['children'][(credit_credentials['children'] !=0)].count()\n",
    "parents_in_debt = credit_credentials['children'][(credit_credentials['children']!=0) & (credit_credentials['debt']==1)].count()\n",
    "ratio_of_parental_debt = parents_in_debt / have_children\n",
    "\n",
    "childless = credit_credentials['children'][(credit_credentials['children']== 0)].count()\n",
    "childless_debt = credit_credentials['children'][(credit_credentials['children']==0) & (credit_credentials['debt']==1)].count()\n",
    "ratio_of_childless_debt = childless_debt / childless\n",
    "\n",
    "children_pivot = credit_credentials.pivot_table(index=['children'], values =['debt'], aggfunc=['sum', 'count'])\n",
    "children_pivot['% of total'] = children_pivot[('sum', 'debt')] / children_pivot[('count', 'debt')] \n",
    "children_pivot['% of total'] = pd.Series([\"{0:.2f}%\".format(val * 100) for val in children_pivot['% of total']], index = children_pivot.index)\n",
    "print(children_pivot.sort_values(by=['% of total']))\n",
    "print('')\n",
    "print('These amount of applicants have children:', have_children)\n",
    "print('These amount of applicants that are without children:', childless)\n",
    "print('')\n",
    "print('These amount of applicants have children and are in debt:', parents_in_debt)\n",
    "print('These amount of applicants are without children but, have debt:', childless_debt)\n",
    "print('')\n",
    "print('Possility of missed payments with children: {:.2%}'.format(ratio_of_parental_debt))\n",
    "print('Possibility of missed payments without children: {:.2%}'.format(ratio_of_childless_debt))"
   ]
  },
  {
   "cell_type": "markdown",
   "metadata": {},
   "source": [
    "### Conclusion"
   ]
  },
  {
   "cell_type": "markdown",
   "metadata": {},
   "source": [
    "- There is a stronger possibility for an applicant to default when they have children\n",
    "\n",
    "- Interesting to look at is that there are a higher number of indivduals that do not have children but, are in debt\n",
    "\n",
    "- The more children an applicant has the more likely they are going to miss a payment on their loan.\n",
    "\n",
    "- Also, it should be noted that there are values that state 20 kids and -1 kids, are these errors in the data?\n"
   ]
  },
  {
   "cell_type": "markdown",
   "metadata": {},
   "source": [
    "- Is there a relation between marital status and repaying a loan on time?"
   ]
  },
  {
   "cell_type": "code",
   "execution_count": 32,
   "metadata": {},
   "outputs": [
    {
     "name": "stdout",
     "output_type": "stream",
     "text": [
      "                                    sum  count % of total\n",
      "                                   debt   debt           \n",
      "family_status     family_status_id                       \n",
      "widow / widower   2                  63    960      6.56%\n",
      "divorced          3                  85   1195      7.11%\n",
      "married           0                 931  12380      7.52%\n",
      "civil partnership 1                 388   4177      9.29%\n",
      "unmarried         4                 274   2813      9.74%\n"
     ]
    }
   ],
   "source": [
    "martial_pivot = credit_credentials.pivot_table(index=['family_status', 'family_status_id'], values =['debt'], aggfunc=['sum', 'count'])\n",
    "martial_pivot['% of total'] = martial_pivot[('sum', 'debt')] / martial_pivot[('count', 'debt')] \n",
    "martial_pivot['% of total'] = pd.Series([\"{0:.2f}%\".format(val * 100) for val in martial_pivot['% of total']], index = martial_pivot.index)\n",
    "print(martial_pivot.sort_values(by=['% of total']))\n",
    "\n",
    "\n"
   ]
  },
  {
   "cell_type": "markdown",
   "metadata": {},
   "source": [
    "### Conclusion"
   ]
  },
  {
   "cell_type": "markdown",
   "metadata": {},
   "source": [
    "- There is a lower probability of missing payments when in a marriage compared to people who are not married. This is significant too becasue there are more people who are married than there are people who are not illustrating that being married is a strong factor to consider when approving loans.\n",
    "\n",
    "- But, when you break down the not in a marriage people more there is a lot of variance that occurs between these four subcategories."
   ]
  },
  {
   "cell_type": "markdown",
   "metadata": {},
   "source": [
    "- Is there a relation between income level and repaying a loan on time?"
   ]
  },
  {
   "cell_type": "code",
   "execution_count": 33,
   "metadata": {},
   "outputs": [
    {
     "name": "stdout",
     "output_type": "stream",
     "text": [
      "Possibility of default with low income: 8.25%\n",
      "Possibility of default with middle low income: 8.11%\n",
      "Possibility of default with middle high income: 7.43%\n",
      "Possibility of default with high income: 5.82%\n"
     ]
    }
   ],
   "source": [
    "low_income_total = credit_credentials['income_level'][(credit_credentials['income_level']=='low income')].count()\n",
    "low_income_debt = credit_credentials['income_level'][(credit_credentials['income_level']=='low income') & (credit_credentials['debt']==1)].count()\n",
    "ratio_of_low_income_debt = low_income_debt / low_income_total\n",
    "\n",
    "middle_low_income_total = credit_credentials['income_level'][(credit_credentials['income_level']=='middle-class')].count()\n",
    "middle_low_income_debt = credit_credentials['income_level'][(credit_credentials['income_level']== 'middle-class') & (credit_credentials['debt']==1)].count()\n",
    "ratio_of_middle_low_income_debt = middle_low_income_debt / middle_low_income_total\n",
    "\n",
    "middle_high_income_total = credit_credentials['income_level'][(credit_credentials['income_level']=='upper-middle-class')].count()\n",
    "middle_high_income_debt = credit_credentials['income_level'][(credit_credentials['income_level']=='upper-middle-class') & (credit_credentials['debt']==1)].count()\n",
    "ratio_of_middle_high_income_debt = middle_high_income_debt / middle_high_income_total\n",
    "\n",
    "high_income_total = credit_credentials['income_level'][(credit_credentials['income_level']=='upper-class')].count()\n",
    "high_income_debt = credit_credentials['income_level'][(credit_credentials['income_level']=='upper-class') & (credit_credentials['debt']==1)].count()\n",
    "ratio_high_income_debt = high_income_debt / high_income_total\n",
    "\n",
    "\n",
    "print('Possibility of default with low income: {:.2%}'.format(ratio_of_low_income_debt))\n",
    "print('Possibility of default with middle low income: {:.2%}'.format(ratio_of_middle_low_income_debt))\n",
    "print('Possibility of default with middle high income: {:.2%}'.format(ratio_of_middle_high_income_debt))\n",
    "print('Possibility of default with high income: {:.2%}'.format(ratio_high_income_debt))\n"
   ]
  },
  {
   "cell_type": "markdown",
   "metadata": {},
   "source": [
    "### Conclusion"
   ]
  },
  {
   "cell_type": "markdown",
   "metadata": {},
   "source": [
    "- The higher the income the less likely an inidividual will default on their loan payments. \n",
    "\n",
    "- I replaced missing values in the total_income column with the mean total_income so this ratio may be incorrect, in order to have the most accurate ratio for this the 2174 values that were replaced need to not be the average but, to be the amount the applicant truly makes"
   ]
  },
  {
   "cell_type": "markdown",
   "metadata": {},
   "source": [
    "- How do different loan purposes affect on-time repayment of the loan?"
   ]
  },
  {
   "cell_type": "code",
   "execution_count": 34,
   "metadata": {},
   "outputs": [
    {
     "name": "stdout",
     "output_type": "stream",
     "text": [
      "                   sum count % of total\n",
      "                  debt  debt           \n",
      "purpose_stemmed                        \n",
      "property purpose   592  8298      7.13%\n",
      "other              233  3038      7.67%\n",
      "wedding purpose    186  2348      7.92%\n",
      "education purpose  327  3526      9.27%\n",
      "vehichle purpose   403  4315      9.34%\n"
     ]
    }
   ],
   "source": [
    "english_stemmer = SnowballStemmer('english')\n",
    "\n",
    "\n",
    "def purpose_stemming(purpose):\n",
    "    return ''.join([english_stemmer.stem(word)for word in purpose.split()])\n",
    "\n",
    "credit_credentials['purpose_stemmed']  = credit_credentials['purpose'].apply(purpose_stemming)\n",
    "\n",
    "def purpose_filter(purpose_stemmed):\n",
    "    if 'hous' in purpose_stemmed:\n",
    "        return 'property purpose'\n",
    "    if 'estat' in purpose_stemmed:\n",
    "        return 'property purpose'\n",
    "    if 'properti'in purpose_stemmed:\n",
    "        return 'property purpose'\n",
    "    if 'car' in purpose_stemmed:\n",
    "        return 'vehichle purpose'\n",
    "    if 'educ' in purpose_stemmed:\n",
    "        return 'education purpose'\n",
    "    if 'wed' in purpose_stemmed:\n",
    "        return 'wedding purpose'\n",
    "    else:\n",
    "        return 'other'\n",
    "credit_credentials['purpose_stemmed']  = credit_credentials['purpose'].apply(purpose_filter)\n",
    "purpose_pivot = credit_credentials.pivot_table(index=['purpose_stemmed'], values =['debt'], aggfunc=['sum', 'count'])\n",
    "purpose_pivot['% of total'] = purpose_pivot[('sum', 'debt')] / purpose_pivot[('count', 'debt')] \n",
    "purpose_pivot['% of total'] = pd.Series([\"{0:.2f}%\".format(val * 100) for val in purpose_pivot['% of total']], index = purpose_pivot.index)\n",
    "print(purpose_pivot.sort_values(by=['% of total']))\n"
   ]
  },
  {
   "cell_type": "markdown",
   "metadata": {},
   "source": [
    "### Conclusion"
   ]
  },
  {
   "cell_type": "markdown",
   "metadata": {},
   "source": [
    "- A lot of the purpose column contains purposes that are fundamentally the same but, just worded slightly differently\n",
    "\n",
    "- Vehicle and education loans have a higher probability of defaulting on a loan.\n",
    "\n"
   ]
  },
  {
   "cell_type": "markdown",
   "metadata": {},
   "source": [
    "<div class=\"alert alert-block alert-success\">\n",
    "<b>Success:</b> This step was done perfectly! Glad to see that you've mastered the \"pivot_table\" method.\n",
    "</div>"
   ]
  },
  {
   "cell_type": "markdown",
   "metadata": {},
   "source": [
    "### Step 4. General conclusion"
   ]
  },
  {
   "cell_type": "markdown",
   "metadata": {},
   "source": [
    "- When looking at this data it is apparent that an applicant who is unmarried, applying for a vehicle loan, with low income, and with children has the <b>highest rate of possibily missing a payment on their loan</b>. \n",
    "\n",
    "- In general an applicant that is applying for a home loan who is married is at a <b>low rate for missing a payment</b>. \n",
    "\n",
    "- Individuals that are applying for a education loan or a vehicle loan are more likely to default than people who are applying for other reasons. \n",
    "\n",
    "- One thing that needs to be considered when looking at this data is that I <b>filled in values</b> that were missing in the <b>total_income</b> value with the mean. Therefore those values may not be accurate and those particular applicants should be reviewed more. \n",
    "\n",
    "- I also, created an <b>age filter</b> that could be used to see how age factors into loan repayments and I think that would be smart to utlize as well."
   ]
  },
  {
   "cell_type": "markdown",
   "metadata": {},
   "source": [
    "<div class=\"alert alert-block alert-info\">\n",
    "<b>Improve: </b> It would be better if bullet points, bold font and other markdown opportunities were used to make the conclusion more structured. \n",
    "</div>"
   ]
  },
  {
   "cell_type": "markdown",
   "metadata": {},
   "source": [
    "### Project Readiness Checklist\n",
    "\n",
    "Put 'x' in the completed points. Then press Shift + Enter."
   ]
  },
  {
   "cell_type": "markdown",
   "metadata": {},
   "source": [
    "- [x]  file open;\n",
    "- [x]  file examined;\n",
    "- [x]  missing values defined;\n",
    "- [x]  missing values are filled;\n",
    "- [x]  an explanation of which missing value types were detected;\n",
    "- [x]  explanation for the possible causes of missing values;\n",
    "- [x]  an explanation of how the blanks are filled;\n",
    "- [x]  replaced the real data type with an integer;\n",
    "- [x]  an explanation of which method is used to change the data type and why;\n",
    "- [x]  duplicates deleted;\n",
    "- [x]  an explanation of which method is used to find and remove duplicates;\n",
    "- [x]  description of the possible reasons for the appearance of duplicates in the data;\n",
    "- [x]  data is categorized;\n",
    "- [x]  an explanation of the principle of data categorization;\n",
    "- [x]  an answer to the question \"Is there a relation between having kids and repaying a loan on time?\";\n",
    "- [X]  an answer to the question \" Is there a relation between marital status and repaying a loan on time?\";\n",
    "- [x]   an answer to the question \" Is there a relation between income level and repaying a loan on time?\";\n",
    "- [x]  an answer to the question \" How do different loan purposes affect on-time repayment of the loan?\"\n",
    "- [x]  conclusions are present on each stage;\n",
    "- [x]  a general conclusion is made."
   ]
  },
  {
   "cell_type": "code",
   "execution_count": null,
   "metadata": {},
   "outputs": [],
   "source": []
  }
 ],
 "metadata": {
  "kernelspec": {
   "display_name": "Python 3",
   "language": "python",
   "name": "python3"
  },
  "language_info": {
   "codemirror_mode": {
    "name": "ipython",
    "version": 3
   },
   "file_extension": ".py",
   "mimetype": "text/x-python",
   "name": "python",
   "nbconvert_exporter": "python",
   "pygments_lexer": "ipython3",
   "version": "3.8.3"
  }
 },
 "nbformat": 4,
 "nbformat_minor": 2
}
